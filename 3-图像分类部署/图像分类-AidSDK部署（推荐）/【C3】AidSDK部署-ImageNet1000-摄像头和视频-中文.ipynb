{
 "cells": [
  {
   "cell_type": "markdown",
   "id": "a8cf17cd",
   "metadata": {},
   "source": [
    "# AidSDK部署-ImageNet1000-摄像头和视频-中文\n",
    "\n",
    "同济子豪兄 2023-6-25\n",
    "\n",
    "本代码在AidLux手机端运行"
   ]
  },
  {
   "cell_type": "markdown",
   "id": "52da8508",
   "metadata": {},
   "source": [
    "## 导入工具包"
   ]
  },
  {
   "cell_type": "code",
   "execution_count": 4,
   "id": "cf60b574",
   "metadata": {},
   "outputs": [],
   "source": [
    "import cv2\n",
    "\n",
    "from cvs import *\n",
    "\n",
    "import numpy as np\n",
    "\n",
    "from PIL import Image, ImageFont, ImageDraw\n",
    "\n",
    "import aidlite_gpu\n",
    "\n",
    "import matplotlib.pyplot as plt\n",
    "%matplotlib inline"
   ]
  },
  {
   "cell_type": "markdown",
   "id": "b79e59c3",
   "metadata": {},
   "source": [
    "## 导入中文字体"
   ]
  },
  {
   "cell_type": "code",
   "execution_count": 5,
   "id": "e2e2dd9e",
   "metadata": {},
   "outputs": [],
   "source": [
    "# 导入中文字体，指定字体大小\n",
    "font = ImageFont.truetype('SimHei.ttf', 32)"
   ]
  },
  {
   "cell_type": "markdown",
   "id": "ec9c4236",
   "metadata": {},
   "source": [
    "## 载入类别名称与ID映射表"
   ]
  },
  {
   "cell_type": "code",
   "execution_count": 6,
   "id": "e3ad474d",
   "metadata": {},
   "outputs": [],
   "source": [
    "# 中文类别名称\n",
    "idx_to_labels = np.load('imagenet1000_idx_to_labels_zh.npy', allow_pickle=True).item()"
   ]
  },
  {
   "cell_type": "markdown",
   "id": "d2b4e1b0",
   "metadata": {},
   "source": [
    "## 载入模型"
   ]
  },
  {
   "cell_type": "code",
   "execution_count": 7,
   "id": "aa27748a",
   "metadata": {},
   "outputs": [],
   "source": [
    "model_path = 'resnet18_imagenet.tflite'\n",
    "\n",
    "NUM_CLASS = 1000 # 指定类别个数"
   ]
  },
  {
   "cell_type": "code",
   "execution_count": 8,
   "id": "c2defb07",
   "metadata": {},
   "outputs": [
    {
     "name": "stdout",
     "output_type": "stream",
     "text": [
      "[2023-08-04 22:17:58,692525][/tmp/ipykernel_10599/1686280459.py:1 <module>][DEBUG]:=======init\n"
     ]
    },
    {
     "data": {
      "text/plain": [
       "Result(id=1, result='load model ok!', error=None)"
      ]
     },
     "execution_count": 8,
     "metadata": {},
     "output_type": "execute_result"
    }
   ],
   "source": [
    "aidlite = aidlite_gpu.aidlite()\n",
    "\n",
    "# 模型路径 输入维度 输出维度 线程数 是否开启NNAPI\n",
    "# https://docs.aidlux.com/#/intro/ai/ai-aidlite?id=_4fast_annmodel\n",
    "aidlite.FAST_ANNModel(model_path, [256*256*3*4], [NUM_CLASS*4], 3, 0)"
   ]
  },
  {
   "cell_type": "markdown",
   "id": "7d2d24c6",
   "metadata": {},
   "source": [
    "## 初始化摄像头"
   ]
  },
  {
   "cell_type": "code",
   "execution_count": 9,
   "id": "4f1e92d1",
   "metadata": {},
   "outputs": [],
   "source": [
    "# 摄像头ID 0-后置 1-前置\n",
    "Camera_ID = 0"
   ]
  },
  {
   "cell_type": "code",
   "execution_count": 10,
   "id": "426d2378",
   "metadata": {},
   "outputs": [
    {
     "name": "stdout",
     "output_type": "stream",
     "text": [
      "('app runs on port:', 34590)\n",
      "open the cam:0 ...\n"
     ]
    },
    {
     "name": "stderr",
     "output_type": "stream",
     "text": [
      "remi.server      INFO     Started httpserver http://0.0.0.0:34590/\n"
     ]
    }
   ],
   "source": [
    "cap = cvs.VideoCapture(Camera_ID)"
   ]
  },
  {
   "cell_type": "markdown",
   "id": "d4915120",
   "metadata": {},
   "source": [
    "## 逐帧处理函数"
   ]
  },
  {
   "cell_type": "code",
   "execution_count": 11,
   "id": "a252f2f3",
   "metadata": {},
   "outputs": [
    {
     "name": "stderr",
     "output_type": "stream",
     "text": [
      "remi.request     INFO     built UI (path=/)\n",
      "remi.server.ws   INFO     connection established: ('192.168.1.4', 62057)\n",
      "remi.server.ws   INFO     handshake complete\n",
      "remi.server.ws   INFO     connection established: ('127.0.0.1', 55734)\n",
      "remi.server.ws   INFO     handshake complete\n",
      "remi.server.ws   ERROR    Error managing incoming websocket message\n",
      "Traceback (most recent call last):\n",
      "  File \"/usr/local/lib/python3.7/dist-packages/remi/server.py\", line 162, in read_next_message\n",
      "    length = self.rfile.read(2)\n",
      "  File \"/usr/lib/python3.7/socket.py\", line 589, in readinto\n",
      "    return self._sock.recv_into(b)\n",
      "ConnectionResetError: [Errno 104] Connection reset by peer\n",
      "remi.server.ws   INFO     connection established: ('127.0.0.1', 55768)\n",
      "remi.server.ws   INFO     handshake complete\n"
     ]
    }
   ],
   "source": [
    "def process_frame(img_bgr):\n",
    "    \n",
    "    # 记录该帧开始处理的时间\n",
    "    start_time = time.time()\n",
    "    \n",
    "    ## 预处理\n",
    "    img_tensor = cv2.resize(img_bgr, (256, 256)) # 尺寸缩放\n",
    "    mean = (0.485, 0.456, 0.406) # 三通道的均值\n",
    "    std = (0.229, 0.224, 0.225) # 三通道的标准差\n",
    "    img_tensor = ((img_tensor / 255) - mean) / std\n",
    "    img_tensor = img_tensor.astype('float32')\n",
    "    \n",
    "    ## 推理预测\n",
    "    aidlite.setInput_Float32(img_tensor) # 装填数据\n",
    "    aidlite.invoke() # 推理预测\n",
    "    result = aidlite.getOutput_Float32() # 获得推理预测结果\n",
    "    \n",
    "    ## 解析预测结果\n",
    "    pred_id = np.argmax(result) # 置信度最高类别 ID\n",
    "    pred_class = idx_to_labels[pred_id] # 置信度最高类别名称\n",
    "    \n",
    "    # 用 pillow写中文\n",
    "    img_rgb = cv2.cvtColor(img_bgr, cv2.COLOR_BGR2RGB) # BGR转RGB\n",
    "    img_pil = Image.fromarray(img_rgb) # array 转 PIL\n",
    "    draw = ImageDraw.Draw(img_pil)\n",
    "    draw.text((50, 150), pred_class, font=font, fill=(0, 0, 255, 1))\n",
    "    img_rgb = np.array(img_pil) # PIL 转 array\n",
    "    img_bgr = cv2.cvtColor(img_rgb, cv2.COLOR_RGB2BGR) # RGB转BGR\n",
    "    \n",
    "    # 记录该帧处理完毕的时间\n",
    "    end_time = time.time()\n",
    "    # 计算每秒处理图像帧数FPS\n",
    "    FPS = 1/(end_time - start_time)\n",
    "    # 在画面上写字：图片，字符串，左上角坐标，字体，字体大小，颜色，字体粗细\n",
    "    FPS_string = 'FPS {:.2f}'.format(FPS) # 写在画面上的字符串\n",
    "    img_output = cv2.putText(img_bgr, FPS_string, (50, 120), cv2.FONT_HERSHEY_SIMPLEX, 1, (0, 0, 255), 2)\n",
    "    \n",
    "    return img_output"
   ]
  },
  {
   "cell_type": "markdown",
   "id": "9bf07596",
   "metadata": {},
   "source": [
    "## 预测摄像头单帧画面"
   ]
  },
  {
   "cell_type": "code",
   "execution_count": 10,
   "id": "7a4c1352",
   "metadata": {},
   "outputs": [],
   "source": [
    "img_bgr = cap.read()"
   ]
  },
  {
   "cell_type": "code",
   "execution_count": 11,
   "id": "bc7673a9",
   "metadata": {},
   "outputs": [],
   "source": [
    "img_bgr = process_frame(img_bgr)"
   ]
  },
  {
   "cell_type": "code",
   "execution_count": 12,
   "id": "bc677fcc",
   "metadata": {},
   "outputs": [
    {
     "data": {
      "image/png": "[encoded data removed]",
      "text/plain": [
       "<Figure size 640x480 with 1 Axes>"
      ]
     },
     "metadata": {},
     "output_type": "display_data"
    },
    {
     "name": "stderr",
     "output_type": "stream",
     "text": [
      "remi.request     ERROR    error processing GET request\n",
      "Traceback (most recent call last):\n",
      "  File \"/usr/local/lib/python3.7/dist-packages/remi/server.py\", line 615, in do_GET\n",
      "    self._instance()\n",
      "  File \"/usr/local/lib/python3.7/dist-packages/remi/server.py\", line 417, in _instance\n",
      "    self.page.children['head'].set_internal_js(str(id(self)), net_interface_ip, pending_messages_queue_length, websocket_timeout_timer_ms)\n",
      "  File \"/usr/local/lib/python3.7/dist-packages/remi/gui.py\", line 1629, in set_internal_js\n",
      "    'event_name':'onerror'})\n",
      "  File \"/usr/local/lib/python3.7/dist-packages/remi/gui.py\", line 470, in add_child\n",
      "    self._render_children_list.remove(key)\n",
      "ValueError: list.remove(x): x not in list\n",
      "remi.server.ws   ERROR    Error managing incoming websocket message\n",
      "Traceback (most recent call last):\n",
      "  File \"/usr/local/lib/python3.7/dist-packages/remi/server.py\", line 166, in read_next_message\n",
      "    length = self.bytetonum(length[1]) & 127\n",
      "IndexError: index out of range\n",
      "remi.request     ERROR    sending websocket spontaneous message\n",
      "Traceback (most recent call last):\n",
      "  File \"/usr/local/lib/python3.7/dist-packages/remi/server.py\", line 497, in _send_spontaneous_websocket_message\n",
      "    if ws.send_message(message):\n",
      "  File \"/usr/local/lib/python3.7/dist-packages/remi/server.py\", line 209, in send_message\n",
      "    self.request.sendall(out)\n",
      "OSError: [Errno 9] Bad file descriptor\n",
      "remi.server.ws   ERROR    Error managing incoming websocket message\n",
      "Traceback (most recent call last):\n",
      "  File \"/usr/local/lib/python3.7/dist-packages/remi/server.py\", line 166, in read_next_message\n",
      "    length = self.bytetonum(length[1]) & 127\n",
      "IndexError: index out of range\n"
     ]
    }
   ],
   "source": [
    "plt.imshow(img_bgr[:,:,::-1])\n",
    "plt.show()"
   ]
  },
  {
   "cell_type": "markdown",
   "id": "02653e7c",
   "metadata": {},
   "source": [
    "## 逐帧实时处理手机摄像头拍摄的画面-代码模板"
   ]
  },
  {
   "cell_type": "code",
   "execution_count": null,
   "id": "563852a8",
   "metadata": {},
   "outputs": [],
   "source": [
    "while True:\n",
    "    img_bgr = cap.read()\n",
    "    \n",
    "    if img_bgr is None:\n",
    "        continue\n",
    "        \n",
    "    img_bgr = process_frame(img_bgr)\n",
    "    \n",
    "    cvs.imshow(img_bgr)"
   ]
  },
  {
   "cell_type": "markdown",
   "id": "b7d69ca6",
   "metadata": {},
   "source": [
    "> 点击`重启kernel`关闭摄像头"
   ]
  },
  {
   "cell_type": "markdown",
   "id": "6414fc8b",
   "metadata": {},
   "source": [
    "## 视频逐帧处理（模板）"
   ]
  },
  {
   "cell_type": "code",
   "execution_count": 9,
   "id": "9d173880",
   "metadata": {},
   "outputs": [],
   "source": [
    "import cv2\n",
    "import numpy as np\n",
    "import time\n",
    "from tqdm import tqdm\n",
    "\n",
    "# 视频逐帧处理代码模板\n",
    "# 不需修改任何代码，只需定义process_frame函数即可\n",
    "# 同济子豪兄 2021-7-10\n",
    "\n",
    "def generate_video(input_path='videos/robot.mp4'):\n",
    "    filehead = input_path.split('/')[-1]\n",
    "    output_path = \"out-\" + filehead\n",
    "    \n",
    "    print('视频开始处理',input_path)\n",
    "    \n",
    "    # 获取视频总帧数\n",
    "    cap = cv2.VideoCapture(input_path)\n",
    "    frame_count = 0\n",
    "    while(cap.isOpened()):\n",
    "        success, frame = cap.read()\n",
    "        frame_count += 1\n",
    "        if not success:\n",
    "            break\n",
    "    cap.release()\n",
    "    print('视频总帧数为',frame_count)\n",
    "    \n",
    "    # cv2.namedWindow('Crack Detection and Measurement Video Processing')\n",
    "    cap = cv2.VideoCapture(input_path)\n",
    "    frame_size = (cap.get(cv2.CAP_PROP_FRAME_WIDTH), cap.get(cv2.CAP_PROP_FRAME_HEIGHT))\n",
    "\n",
    "    # fourcc = int(cap.get(cv2.CAP_PROP_FOURCC))\n",
    "    # fourcc = cv2.VideoWriter_fourcc(*'XVID')\n",
    "    fourcc = cv2.VideoWriter_fourcc(*'mp4v')\n",
    "    fps = cap.get(cv2.CAP_PROP_FPS)\n",
    "\n",
    "    out = cv2.VideoWriter(output_path, fourcc, fps, (int(frame_size[0]), int(frame_size[1])))\n",
    "    \n",
    "    # 进度条绑定视频总帧数\n",
    "    with tqdm(total=frame_count-1) as pbar:\n",
    "        try:\n",
    "            while(cap.isOpened()):\n",
    "                success, frame = cap.read()\n",
    "                if not success:\n",
    "                    break\n",
    "\n",
    "                # 处理帧\n",
    "                # frame_path = './temp_frame.png'\n",
    "                # cv2.imwrite(frame_path, frame)\n",
    "                try:\n",
    "                    frame = process_frame(frame)\n",
    "                except:\n",
    "                    print('报错！', error)\n",
    "                    pass\n",
    "                \n",
    "                if success == True:\n",
    "                    # cv2.imshow('Video Processing', frame)\n",
    "                    out.write(frame)\n",
    "\n",
    "                    # 进度条更新一帧\n",
    "                    pbar.update(1)\n",
    "\n",
    "                # if cv2.waitKey(1) & 0xFF == ord('q'):\n",
    "                    # break\n",
    "        except:\n",
    "            print('中途中断')\n",
    "            pass\n",
    "\n",
    "    cv2.destroyAllWindows()\n",
    "    out.release()\n",
    "    cap.release()\n",
    "    print('视频已保存', output_path)"
   ]
  },
  {
   "cell_type": "code",
   "execution_count": 10,
   "id": "00ab603a",
   "metadata": {},
   "outputs": [
    {
     "name": "stdout",
     "output_type": "stream",
     "text": [
      "视频开始处理 video_4.mp4\n",
      "视频总帧数为 283\n"
     ]
    },
    {
     "name": "stderr",
     "output_type": "stream",
     "text": [
      " 83%|█████████████████████████████████████████████████████████████████████████████████████████▌                  | 234/282 [00:50<00:11,  4.29it/s]remi.server.ws   ERROR    Error managing incoming websocket message\n",
      "Traceback (most recent call last):\n",
      "  File \"/usr/local/lib/python3.7/dist-packages/remi/server.py\", line 166, in read_next_message\n",
      "    length = self.bytetonum(length[1]) & 127\n",
      "IndexError: index out of range\n",
      "100%|████████████████████████████████████████████████████████████████████████████████████████████████████████████| 282/282 [01:00<00:00,  4.66it/s]\n"
     ]
    },
    {
     "name": "stdout",
     "output_type": "stream",
     "text": [
      "视频已保存 out-video_4.mp4\n"
     ]
    }
   ],
   "source": [
    "generate_video(input_path='video_4.mp4')"
   ]
  },
  {
   "cell_type": "code",
   "execution_count": null,
   "id": "b8e88924",
   "metadata": {},
   "outputs": [],
   "source": []
  }
 ],
 "metadata": {
  "kernelspec": {
   "display_name": "Python 3 (ipykernel)",
   "language": "python",
   "name": "python3"
  },
  "language_info": {
   "codemirror_mode": {
    "name": "ipython",
    "version": 3
   },
   "file_extension": ".py",
   "mimetype": "text/x-python",
   "name": "python",
   "nbconvert_exporter": "python",
   "pygments_lexer": "ipython3",
   "version": "3.7.3"
  }
 },
 "nbformat": 4,
 "nbformat_minor": 5
}
