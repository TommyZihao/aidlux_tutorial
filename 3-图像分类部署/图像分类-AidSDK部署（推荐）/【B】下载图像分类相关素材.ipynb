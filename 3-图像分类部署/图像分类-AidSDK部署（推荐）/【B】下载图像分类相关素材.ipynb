{
 "cells": [
  {
   "cell_type": "markdown",
   "id": "1b04034a",
   "metadata": {},
   "source": [
    "# 下载图像分类相关素材\n",
    "\n",
    "同济子豪兄 2023-6-25\n",
    "\n",
    "本代码在AidLux手机端运行"
   ]
  },
  {
   "cell_type": "markdown",
   "id": "f621a96e",
   "metadata": {},
   "source": [
    "## 下载tflite模型"
   ]
  },
  {
   "cell_type": "code",
   "execution_count": 11,
   "id": "7e6907b8",
   "metadata": {},
   "outputs": [],
   "source": [
    "!wget https://zihao-tutorial.obs.cn-east-3.myhuaweicloud.com/aidlux/ckpt/resnet18_imagenet.tflite\n",
    "!wget https://zihao-tutorial.obs.cn-east-3.myhuaweicloud.com/aidlux/ckpt/resnet18_fruit30.tflite"
   ]
  },
  {
   "cell_type": "markdown",
   "id": "585b6acc",
   "metadata": {},
   "source": [
    "## 下载类别名称与ID映射表"
   ]
  },
  {
   "cell_type": "code",
   "execution_count": 12,
   "id": "59094510",
   "metadata": {},
   "outputs": [],
   "source": [
    "!wget https://zihao-tutorial.obs.cn-east-3.myhuaweicloud.com/aidlux/data_meta/imagenet1000_idx_to_labels_en.npy\n",
    "    \n",
    "!wget https://zihao-tutorial.obs.cn-east-3.myhuaweicloud.com/aidlux/data_meta/imagenet1000_idx_to_labels_zh.npy\n",
    "    \n",
    "!wget https://zihao-openmmlab.obs.cn-east-3.myhuaweicloud.com/20220716-mmclassification/dataset/fruit30/idx_to_labels.npy"
   ]
  },
  {
   "cell_type": "markdown",
   "id": "92feed55",
   "metadata": {},
   "source": [
    "## 下载素材"
   ]
  },
  {
   "cell_type": "code",
   "execution_count": 13,
   "id": "cd1aff29",
   "metadata": {},
   "outputs": [],
   "source": [
    "# 西瓜\n",
    "!wget https://zihao-tutorial.obs.cn-east-3.myhuaweicloud.com/aidlux/test_img/watermelon4.jpg\n",
    "\n",
    "# 邂罗猫，拍摄：子豪兄\n",
    "!wget https://zihao-openmmlab.obs.cn-east-3.myhuaweicloud.com/20220716-mmclassification/test/cat1.jpg\n",
    "\n",
    "# 视频\n",
    "!wget https://zihao-openmmlab.obs.cn-east-3.myhuaweicloud.com/20220716-mmclassification/test/video_4.mp4\n",
    "!wget https://zihao-openmmlab.obs.myhuaweicloud.com/20220716-mmclassification/test/0818/fruits_video.mp4"
   ]
  },
  {
   "cell_type": "markdown",
   "id": "c4f96db8",
   "metadata": {},
   "source": [
    "## 下载中文字体"
   ]
  },
  {
   "cell_type": "code",
   "execution_count": 14,
   "id": "70c93a42",
   "metadata": {},
   "outputs": [],
   "source": [
    "!wget https://zihao-openmmlab.obs.cn-east-3.myhuaweicloud.com/20220716-mmclassification/dataset/SimHei.ttf"
   ]
  },
  {
   "cell_type": "code",
   "execution_count": null,
   "id": "6e99b7b9",
   "metadata": {},
   "outputs": [],
   "source": []
  }
 ],
 "metadata": {
  "kernelspec": {
   "display_name": "Python 3 (ipykernel)",
   "language": "python",
   "name": "python3"
  },
  "language_info": {
   "codemirror_mode": {
    "name": "ipython",
    "version": 3
   },
   "file_extension": ".py",
   "mimetype": "text/x-python",
   "name": "python",
   "nbconvert_exporter": "python",
   "pygments_lexer": "ipython3",
   "version": "3.7.3"
  }
 },
 "nbformat": 4,
 "nbformat_minor": 5
}
