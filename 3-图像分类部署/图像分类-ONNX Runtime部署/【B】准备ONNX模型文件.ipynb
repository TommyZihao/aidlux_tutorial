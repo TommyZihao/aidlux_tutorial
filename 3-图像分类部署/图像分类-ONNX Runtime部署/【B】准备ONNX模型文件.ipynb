{
 "cells": [
  {
   "cell_type": "markdown",
   "id": "b66ff073-cd18-4ef1-b8a7-4ab2ba6fbffa",
   "metadata": {},
   "source": [
    "# 准备ONNX模型文件\n",
    "\n",
    "同济子豪兄 2023-6-25"
   ]
  },
  {
   "cell_type": "markdown",
   "id": "373e522a-11e3-4f2a-84d5-fbf4ec7fc552",
   "metadata": {},
   "source": [
    "## 直接下载子豪兄准备好的两个ONNX模型"
   ]
  },
  {
   "cell_type": "code",
   "execution_count": 4,
   "id": "658184eb-0e3f-4f5d-b472-c73b9f0e0795",
   "metadata": {},
   "outputs": [],
   "source": [
    "!wget https://zihao-tutorial.obs.cn-east-3.myhuaweicloud.com/aidlux/ckpt/resnet18_imagenet.onnx\n",
    "!wget https://zihao-tutorial.obs.cn-east-3.myhuaweicloud.com/aidlux/ckpt/resnet18_fruit30.onnx"
   ]
  },
  {
   "cell_type": "markdown",
   "id": "eb0bf8b1-cc8a-4735-849d-057b2d274000",
   "metadata": {},
   "source": [
    "- `resnet18_imagenet.onnx`：PyTorch官方预训练模型-ImageNet1000类图像分类模型 转ONNX\n",
    "\n",
    "- `resnet18_fruit30.onnx`：自己训练得到的30类水果图像分类模型 转ONNX"
   ]
  },
  {
   "cell_type": "markdown",
   "id": "e44946aa",
   "metadata": {},
   "source": [
    "## 下载测试素材"
   ]
  },
  {
   "cell_type": "code",
   "execution_count": 6,
   "id": "11dbb82d",
   "metadata": {},
   "outputs": [],
   "source": [
    "!wget https://zihao-openmmlab.obs.cn-east-3.myhuaweicloud.com/20220716-mmclassification/dataset/imagenet/imagenet_class_index.csv\n",
    "\n",
    "!wget https://zihao-openmmlab.obs.cn-east-3.myhuaweicloud.com/20220716-mmclassification/test/banana1.jpg\n",
    "!wget https://zihao-openmmlab.obs.cn-east-3.myhuaweicloud.com/20220716-mmclassification/test/video_4.mp4"
   ]
  },
  {
   "cell_type": "code",
   "execution_count": null,
   "id": "1069c222",
   "metadata": {},
   "outputs": [],
   "source": []
  }
 ],
 "metadata": {
  "kernelspec": {
   "display_name": "Python 3 (ipykernel)",
   "language": "python",
   "name": "python3"
  },
  "language_info": {
   "codemirror_mode": {
    "name": "ipython",
    "version": 3
   },
   "file_extension": ".py",
   "mimetype": "text/x-python",
   "name": "python",
   "nbconvert_exporter": "python",
   "pygments_lexer": "ipython3",
   "version": "3.7.3"
  }
 },
 "nbformat": 4,
 "nbformat_minor": 5
}
