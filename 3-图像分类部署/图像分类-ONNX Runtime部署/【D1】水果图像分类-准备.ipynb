{
 "cells": [
  {
   "cell_type": "markdown",
   "id": "7f9bdb3e",
   "metadata": {},
   "source": [
    "# 水果图像分类-准备\n",
    "\n",
    "同济子豪兄 https://space.bilibili.com/1900783\n",
    "\n",
    "2022-8-19"
   ]
  },
  {
   "cell_type": "markdown",
   "id": "ae22d363",
   "metadata": {},
   "source": [
    "## 下载测试图像和视频"
   ]
  },
  {
   "cell_type": "code",
   "execution_count": 4,
   "id": "e75763f0",
   "metadata": {},
   "outputs": [],
   "source": [
    "!wget https://zihao-openmmlab.obs.myhuaweicloud.com/20220716-mmclassification/test/0818/test_bananan.jpg\n",
    "    \n",
    "!wget https://zihao-openmmlab.obs.myhuaweicloud.com/20220716-mmclassification/test/0818/fruits_video.mp4"
   ]
  },
  {
   "cell_type": "markdown",
   "id": "b94f2b35",
   "metadata": {},
   "source": [
    "## 下载类别ID和类别名称对应文件"
   ]
  },
  {
   "cell_type": "code",
   "execution_count": 3,
   "id": "a5f2950f",
   "metadata": {},
   "outputs": [],
   "source": [
    "!wget https://zihao-openmmlab.obs.cn-east-3.myhuaweicloud.com/20220716-mmclassification/dataset/fruit30/idx_to_labels.npy\n"
   ]
  },
  {
   "cell_type": "code",
   "execution_count": null,
   "id": "73be1c85",
   "metadata": {},
   "outputs": [],
   "source": []
  }
 ],
 "metadata": {
  "kernelspec": {
   "display_name": "Python 3 (ipykernel)",
   "language": "python",
   "name": "python3"
  },
  "language_info": {
   "codemirror_mode": {
    "name": "ipython",
    "version": 3
   },
   "file_extension": ".py",
   "mimetype": "text/x-python",
   "name": "python",
   "nbconvert_exporter": "python",
   "pygments_lexer": "ipython3",
   "version": "3.7.3"
  }
 },
 "nbformat": 4,
 "nbformat_minor": 5
}
